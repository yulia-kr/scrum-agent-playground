{
 "cells": [
  {
   "cell_type": "markdown",
   "metadata": {},
   "source": [
    "# Crew AI"
   ]
  },
  {
   "cell_type": "code",
   "execution_count": 1,
   "metadata": {},
   "outputs": [],
   "source": [
    "import os\n",
    "import crewai\n",
    "from crewai import Agent, Task, Crew, Process\n",
    "from langchain_openai import AzureChatOpenAI\n",
    "from dotenv import load_dotenv\n",
    "import PyPDF2\n",
    "\n",
    "load_dotenv(override=True)\n",
    "\n",
    "OPENAI_MODEL_NAME = os.getenv('OPENAI_API_TYPE')\n",
    "OPENAI_API_KEY = os.getenv('OPENAI_API_KEY')\n",
    "AZURE_OPENAI_LLM_DEPLOYMENT_NAME = os.getenv('AZURE_OPENAI_LLM_DEPLOYMENT_NAME')\n",
    "AZURE_OPENAI_LLM_MODEL_NAME = os.getenv('AZURE_OPENAI_LLM_MODEL_NAME')           \n"
   ]
  },
  {
   "cell_type": "code",
   "execution_count": 2,
   "metadata": {},
   "outputs": [],
   "source": [
    "llm = AzureChatOpenAI(\n",
    "    azure_deployment=AZURE_OPENAI_LLM_DEPLOYMENT_NAME, \n",
    "    model=AZURE_OPENAI_LLM_MODEL_NAME,\n",
    "    temperature=0.8\n",
    ")\n"
   ]
  },
  {
   "cell_type": "code",
   "execution_count": 3,
   "metadata": {},
   "outputs": [],
   "source": [
    "# PDF extraction function\n",
    "def extract_text_from_pdf(pdf_file_path):\n",
    "    text = \"\"\n",
    "    with open(pdf_file_path, 'rb') as pdf_file:\n",
    "        reader = PyPDF2.PdfReader(pdf_file)\n",
    "        for page in range(len(reader.pages)):\n",
    "            text += reader.pages[page].extract_text()\n",
    "    return text"
   ]
  },
  {
   "cell_type": "markdown",
   "metadata": {},
   "source": [
    "![Agents](img/AI_Crew_Agent.png)"
   ]
  },
  {
   "cell_type": "code",
   "execution_count": 4,
   "metadata": {},
   "outputs": [],
   "source": [
    "# Agents \n",
    "good_example_analyzer = Agent(\n",
    "    role=\"Good Example Analyzer\",\n",
    "    goal=\"Analyze the good example ticket to extract the style, structure, and key elements expected for a well-formed user story.\",\n",
    "    llm=llm,\n",
    "    backstory=\"You are an experienced product owner and Agile coach. Your job is to understand how a well-written user story is structured and provide insights on style, structure, and tone to the user story generator.\"\n",
    ")\n",
    "\n",
    "feature_analyzer = Agent(\n",
    "    role=\"Feature Analyzer\",\n",
    "    goal=\"Analyze the feature description and extract key information including context, problem statement, target audience, and goals.\",\n",
    "    llm=llm,\n",
    "    backstory=\"You are an experienced business analyst with deep expertise in software requirements. Your role is to extract critical information from technical documentation and feature descriptions, identifying the key objectives, problems being solved, and the relevant stakeholders.\"\n",
    ")\n",
    "\n",
    "ticket_parser = Agent(\n",
    "    role=\"Ticket Parser\",\n",
    "    goal=\"Extract the ticket name, short description, and additional metadata such as dependencies, links, epics, and sprints from the user story ticket.\",\n",
    "    llm=llm,\n",
    "    backstory=\"You are detail-oriented and skilled at parsing technical documents. Your goal is to capture all critical information from the ticket, including dependencies, links, and other metadata required to complete the story.\"\n",
    ")\n",
    "\n",
    "user_story_generator = Agent(\n",
    "    role=\"User Story Generator\",\n",
    "    goal=\"Generate a well-structured user story, including detailed descriptions and acceptance criteria, based on the provided feature summary and ticket information. Ensure missing information is identified and clearly prompt for clarification.\",\n",
    "    llm=llm,\n",
    "    backstory=\"You are an expert in Agile development with a deep understanding of best practices for writing user stories. Your role is to ensure user stories are complete, concise, and include well-defined acceptance criteria, highlighting any gaps or ambiguities that need further clarification from stakeholders.\"\n",
    ")\n"
   ]
  },
  {
   "cell_type": "markdown",
   "metadata": {},
   "source": [
    "![Tasks](img/AI_Crew_Tasks.png)"
   ]
  },
  {
   "cell_type": "code",
   "execution_count": 5,
   "metadata": {},
   "outputs": [],
   "source": [
    "# Tasks\n",
    "\n",
    "analyze_good_example_task = Task(\n",
    "    description=\"\"\"\n",
    "    Analyze the following well-written ticket, and extract:\n",
    "    * The expected style (e.g., formal, clear, concise)\n",
    "    * The structure (e.g., clear definition of role, goal, and benefit)\n",
    "    * Important elements in the user story (e.g., specific format, clarity, completeness)\n",
    "    \n",
    "    Provide insights to the user story generator so that it can replicate the style and structure in future user stories.\n",
    "    \"\"\",\n",
    "    expected_output=\"Insights on style, structure, and key elements from the good example ticket.\",\n",
    "    agent=good_example_analyzer,\n",
    "    async_execution=True\n",
    ")\n",
    "\n",
    "analyze_feature_task = Task(\n",
    "    description=\"\"\"\n",
    "    Analyze the feature description and extract the following:\n",
    "    * Context: What broader system or environment does this feature exist in?\n",
    "    * Problem Statement: What specific issue or need is the feature addressing?\n",
    "    * Target group and stakeholders: Who are the users or stakeholders involved?\n",
    "    * Goals/Benefit: What are the intended outcomes or benefits of this feature?\n",
    "    \"\"\",\n",
    "    expected_output=\"A structured summary of the feature’s key points, including context, problem statement, target audience, and goals.\",\n",
    "    agent=feature_analyzer,\n",
    "    async_execution=True\n",
    ")\n",
    "\n",
    "parse_ticket_task = Task(\n",
    "    description=f\"\"\"\n",
    "    Analyze the following ticket text and extract the following:\n",
    "    * Ticket Name\n",
    "    * Short Description\n",
    "    * Dependencies (related tickets, features, epics, etc.)\n",
    "    * Links (Confluence, Jira, or other relevant links)\n",
    "    * Metadata (sprint information, epic links, affected versions)\n",
    "    \"\"\",\n",
    "    expected_output=\"A structured format containing the ticket name, short description, dependencies, links, and additional metadata.\",\n",
    "    agent=ticket_parser,\n",
    "    async_execution=True\n",
    ")\n",
    "\n",
    "generate_user_story_task = Task(\n",
    "    description=f\"\"\"\n",
    "    Based on the insights from the good example ticket, feature text, and ticket information, generate:\n",
    "\n",
    "    * A well-formed user story in the format: \"As a <user role>, I want <goal/desire> so that <reason/benefit>.\"\n",
    "    * A detailed description that incorporates the feature’s context, addressing any missing or unclear information.\n",
    "    * Clear and specific acceptance criteria that cover functional, non-functional, and error-handling aspects.\n",
    "    * Identify information that is missing or unclear, and explicitly prompt for clarification from stakeholders (e.g., \"Ask the stakeholder which data should be archived\").\n",
    "    * Seamlessly integrate all relevant metadata (dependencies, links, epics, etc.) into the user story, description, and acceptance criteria without listing them as a separate section.\n",
    "    \"\"\",\n",
    "    expected_output=\"A well-structured user story with integrated metadata and prompts for clarification where needed.\",\n",
    "    agent=user_story_generator\n",
    ")\n"
   ]
  },
  {
   "cell_type": "code",
   "execution_count": 6,
   "metadata": {},
   "outputs": [],
   "source": [
    "def process_pdf_tasks(feature_pdf, ticket_pdf, good_example_pdf):\n",
    "    \n",
    "    feature_text = extract_text_from_pdf(feature_pdf)\n",
    "    ticket_text = extract_text_from_pdf(ticket_pdf)\n",
    "    good_example_text = extract_text_from_pdf(good_example_pdf)\n",
    "    \n",
    "    if not feature_text or not ticket_text or not good_example_text:\n",
    "        raise ValueError(\"PDF extraction failed: One or more PDFs returned empty text.\")\n",
    "\n",
    "    # Update task descriptions with extracted text\n",
    "    analyze_feature_task.description = f\"Analyze the following feature text:\\n{feature_text}\"\n",
    "    parse_ticket_task.description = f\"Analyze the following ticket text and extract dependencies, links, and metadata:\\n{ticket_text}\"\n",
    "    analyze_good_example_task.description = f\"Analyze the following good example ticket:\\n{good_example_text}\"\n",
    "\n",
    "    crew = Crew(\n",
    "        agents=[feature_analyzer, ticket_parser, user_story_generator, good_example_analyzer],\n",
    "        tasks=[analyze_feature_task, parse_ticket_task, analyze_good_example_task, generate_user_story_task]\n",
    "    )\n",
    "\n",
    "    result = crew.kickoff()\n",
    "    \n",
    "    \n",
    "    return result\n"
   ]
  },
  {
   "cell_type": "code",
   "execution_count": null,
   "metadata": {},
   "outputs": [],
   "source": [
    "feature_pdf_path = ['FEATURE PDF PATH']\n",
    "ticket_pdf_path = ['TICKET PDF PATH']\n",
    "good_example_pdf_path = ['EXAMPLE PDF PATH']\n",
    "\n",
    "result = process_pdf_tasks(feature_pdf_path, ticket_pdf_path, good_example_pdf_path)\n",
    "\n",
    "print(result)"
   ]
  }
 ],
 "metadata": {
  "kernelspec": {
   "display_name": "base",
   "language": "python",
   "name": "python3"
  },
  "language_info": {
   "codemirror_mode": {
    "name": "ipython",
    "version": 3
   },
   "file_extension": ".py",
   "mimetype": "text/x-python",
   "name": "python",
   "nbconvert_exporter": "python",
   "pygments_lexer": "ipython3",
   "version": "3.11.7"
  }
 },
 "nbformat": 4,
 "nbformat_minor": 2
}
